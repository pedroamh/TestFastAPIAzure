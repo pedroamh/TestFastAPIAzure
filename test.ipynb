{
 "cells": [
  {
   "cell_type": "code",
   "execution_count": 12,
   "metadata": {},
   "outputs": [
    {
     "name": "stdout",
     "output_type": "stream",
     "text": [
      "Error al enviar el correo: [WinError 10060] Se produjo un error durante el intento de conexión ya que la parte conectada no respondió adecuadamente tras un periodo de tiempo, o bien se produjo un error en la conexión establecida ya que el host conectado no ha podido responder\n"
     ]
    },
    {
     "ename": "NameError",
     "evalue": "name 'server' is not defined",
     "output_type": "error",
     "traceback": [
      "\u001b[1;31m---------------------------------------------------------------------------\u001b[0m",
      "\u001b[1;31mNameError\u001b[0m                                 Traceback (most recent call last)",
      "Cell \u001b[1;32mIn[12], line 40\u001b[0m\n\u001b[0;32m     37\u001b[0m     \u001b[39mprint\u001b[39m(\u001b[39mf\u001b[39m\u001b[39m\"\u001b[39m\u001b[39mError al enviar el correo: \u001b[39m\u001b[39m{\u001b[39;00m\u001b[39mstr\u001b[39m(e)\u001b[39m}\u001b[39;00m\u001b[39m\"\u001b[39m)\n\u001b[0;32m     39\u001b[0m \u001b[39mfinally\u001b[39;00m:\n\u001b[1;32m---> 40\u001b[0m     server\u001b[39m.\u001b[39mquit()  \u001b[39m# Cerrar la conexión con el servidor SMTP\u001b[39;00m\n",
      "\u001b[1;31mNameError\u001b[0m: name 'server' is not defined"
     ]
    }
   ],
   "source": [
    "import smtplib\n",
    "from email.mime.text import MIMEText\n",
    "from email.mime.multipart import MIMEMultipart\n",
    "\n",
    "# Los datos de configuración del servidor de correo\n",
    "mail_server_config = {\n",
    "    \"host\": \"172.18.0.185\",\n",
    "    \"port\": 587,\n",
    "    \"username\": \"aflorez@esri.co\",\n",
    "    \"password\": \"LilianaGR12345*\",\n",
    "    \"sender_email\": \"aflorez@esri.co\"\n",
    "}\n",
    "\n",
    "# Crear un mensaje de correo\n",
    "subject = \"Asunto del Correo\"\n",
    "message = \"Este es el contenido del correo.\"\n",
    "\n",
    "msg = MIMEMultipart()\n",
    "msg['From'] = mail_server_config['sender_email']\n",
    "msg['To'] = \"destinatario@example.com\"  # Reemplaza con la dirección de correo del destinatario\n",
    "msg['Subject'] = subject\n",
    "\n",
    "# Agregar el mensaje al cuerpo del correo\n",
    "msg.attach(MIMEText(message, 'plain'))\n",
    "\n",
    "# Establecer una conexión segura con el servidor SMTP\n",
    "try:\n",
    "    server = smtplib.SMTP(mail_server_config['host'], mail_server_config['port'])\n",
    "    server.starttls()  # Usar TLS para una conexión segura\n",
    "    server.login(mail_server_config['username'], mail_server_config['password'])\n",
    "\n",
    "    # Enviar el correo\n",
    "    server.sendmail(mail_server_config['sender_email'], msg['To'], msg.as_string())\n",
    "    print(\"Correo enviado exitosamente\")\n",
    "\n",
    "except Exception as e:\n",
    "    print(f\"Error al enviar el correo: {str(e)}\")\n",
    "\n",
    "finally:\n",
    "    server.quit()  # Cerrar la conexión con el servidor SMTP\n"
   ]
  }
 ],
 "metadata": {
  "kernelspec": {
   "display_name": "geo_env_htek",
   "language": "python",
   "name": "python3"
  },
  "language_info": {
   "codemirror_mode": {
    "name": "ipython",
    "version": 3
   },
   "file_extension": ".py",
   "mimetype": "text/x-python",
   "name": "python",
   "nbconvert_exporter": "python",
   "pygments_lexer": "ipython3",
   "version": "3.11.0"
  },
  "orig_nbformat": 4
 },
 "nbformat": 4,
 "nbformat_minor": 2
}
